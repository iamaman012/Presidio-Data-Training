{
  "nbformat": 4,
  "nbformat_minor": 0,
  "metadata": {
    "colab": {
      "provenance": []
    },
    "kernelspec": {
      "name": "python3",
      "display_name": "Python 3"
    },
    "language_info": {
      "name": "python"
    }
  },
  "cells": [
    {
      "cell_type": "code",
      "execution_count": 1,
      "metadata": {
        "colab": {
          "base_uri": "https://localhost:8080/"
        },
        "id": "3pNAgW56t3F8",
        "outputId": "d856704c-24ac-4f1e-c1ad-aa27bb5029bd"
      },
      "outputs": [
        {
          "output_type": "stream",
          "name": "stdout",
          "text": [
            "Collecting pyspark\n",
            "  Downloading pyspark-3.5.2.tar.gz (317.3 MB)\n",
            "\u001b[2K     \u001b[90m━━━━━━━━━━━━━━━━━━━━━━━━━━━━━━━━━━━━━━━━\u001b[0m \u001b[32m317.3/317.3 MB\u001b[0m \u001b[31m4.6 MB/s\u001b[0m eta \u001b[36m0:00:00\u001b[0m\n",
            "\u001b[?25h  Preparing metadata (setup.py) ... \u001b[?25l\u001b[?25hdone\n",
            "Requirement already satisfied: py4j==0.10.9.7 in /usr/local/lib/python3.10/dist-packages (from pyspark) (0.10.9.7)\n",
            "Building wheels for collected packages: pyspark\n",
            "  Building wheel for pyspark (setup.py) ... \u001b[?25l\u001b[?25hdone\n",
            "  Created wheel for pyspark: filename=pyspark-3.5.2-py2.py3-none-any.whl size=317812365 sha256=9329f61319190656638500632eb287528e32bb2b536522f2f874909405982335\n",
            "  Stored in directory: /root/.cache/pip/wheels/34/34/bd/03944534c44b677cd5859f248090daa9fb27b3c8f8e5f49574\n",
            "Successfully built pyspark\n",
            "Installing collected packages: pyspark\n",
            "Successfully installed pyspark-3.5.2\n"
          ]
        }
      ],
      "source": [
        "!pip install pyspark"
      ]
    },
    {
      "cell_type": "code",
      "source": [
        "from pyspark.sql import SparkSession\n",
        "from pyspark.sql.functions import col, lower, sum, max, min, expr, month, date_format\n",
        "from pyspark.sql.window import Window"
      ],
      "metadata": {
        "id": "D4E5AVbrwEOg"
      },
      "execution_count": 2,
      "outputs": []
    },
    {
      "cell_type": "code",
      "source": [
        "spark = SparkSession.builder.appName(\"CovidDataAnalysis\").getOrCreate()"
      ],
      "metadata": {
        "id": "IRYhwPeWwI-8"
      },
      "execution_count": 3,
      "outputs": []
    },
    {
      "cell_type": "code",
      "source": [
        "df = spark.read.csv(\"/content/complete.csv\", header=True, inferSchema=True)"
      ],
      "metadata": {
        "id": "VMMjtNFDwPV-"
      },
      "execution_count": 4,
      "outputs": []
    },
    {
      "cell_type": "code",
      "source": [
        "df.show(5)"
      ],
      "metadata": {
        "colab": {
          "base_uri": "https://localhost:8080/"
        },
        "id": "MxBjXU3uwgKJ",
        "outputId": "b684501b-050f-416f-dcde-8d6a32a5f840"
      },
      "execution_count": 5,
      "outputs": [
        {
          "output_type": "stream",
          "name": "stdout",
          "text": [
            "+----------+------------------+--------+---------+---------------------+-----+-------------------------+---------+----------+-------------+\n",
            "|      Date|Name of State / UT|Latitude|Longitude|Total Confirmed cases|Death|Cured/Discharged/Migrated|New cases|New deaths|New recovered|\n",
            "+----------+------------------+--------+---------+---------------------+-----+-------------------------+---------+----------+-------------+\n",
            "|2020-01-30|            Kerala| 10.8505|  76.2711|                  1.0|    0|                      0.0|        0|         0|            0|\n",
            "|2020-01-31|            Kerala| 10.8505|  76.2711|                  1.0|    0|                      0.0|        0|         0|            0|\n",
            "|2020-02-01|            Kerala| 10.8505|  76.2711|                  2.0|    0|                      0.0|        1|         0|            0|\n",
            "|2020-02-02|            Kerala| 10.8505|  76.2711|                  3.0|    0|                      0.0|        1|         0|            0|\n",
            "|2020-02-03|            Kerala| 10.8505|  76.2711|                  3.0|    0|                      0.0|        0|         0|            0|\n",
            "+----------+------------------+--------+---------+---------------------+-----+-------------------------+---------+----------+-------------+\n",
            "only showing top 5 rows\n",
            "\n"
          ]
        }
      ]
    },
    {
      "cell_type": "markdown",
      "source": [
        "  # 1.Convert all states names to lower case"
      ],
      "metadata": {
        "id": "KMRUtE9KwtBV"
      }
    },
    {
      "cell_type": "code",
      "source": [
        "df = df.withColumn(\"Name of State / UT\", lower(col(\"Name of State / UT\")))\n",
        "df.show(5)"
      ],
      "metadata": {
        "colab": {
          "base_uri": "https://localhost:8080/"
        },
        "id": "uX0TndxWw9f5",
        "outputId": "8bb32c5b-b487-41b2-c1ed-03c7bcfe5fd7"
      },
      "execution_count": 6,
      "outputs": [
        {
          "output_type": "stream",
          "name": "stdout",
          "text": [
            "+----------+------------------+--------+---------+---------------------+-----+-------------------------+---------+----------+-------------+\n",
            "|      Date|Name of State / UT|Latitude|Longitude|Total Confirmed cases|Death|Cured/Discharged/Migrated|New cases|New deaths|New recovered|\n",
            "+----------+------------------+--------+---------+---------------------+-----+-------------------------+---------+----------+-------------+\n",
            "|2020-01-30|            kerala| 10.8505|  76.2711|                  1.0|    0|                      0.0|        0|         0|            0|\n",
            "|2020-01-31|            kerala| 10.8505|  76.2711|                  1.0|    0|                      0.0|        0|         0|            0|\n",
            "|2020-02-01|            kerala| 10.8505|  76.2711|                  2.0|    0|                      0.0|        1|         0|            0|\n",
            "|2020-02-02|            kerala| 10.8505|  76.2711|                  3.0|    0|                      0.0|        1|         0|            0|\n",
            "|2020-02-03|            kerala| 10.8505|  76.2711|                  3.0|    0|                      0.0|        0|         0|            0|\n",
            "+----------+------------------+--------+---------+---------------------+-----+-------------------------+---------+----------+-------------+\n",
            "only showing top 5 rows\n",
            "\n"
          ]
        }
      ]
    },
    {
      "cell_type": "markdown",
      "source": [
        "# 2.The day with the greatest number of COVID cases"
      ],
      "metadata": {
        "id": "NxNvx6FpxG89"
      }
    },
    {
      "cell_type": "code",
      "source": [
        "max_cases_day = df.groupBy(\"Date\").agg(sum(\"New cases\").alias(\"Total_New_Cases\"))\\\n",
        "                  .orderBy(col(\"Total_New_Cases\").desc()).first()\n",
        "print(f\"Date: {max_cases_day['Date']}, Total New Cases: {max_cases_day['Total_New_Cases']}\")\n"
      ],
      "metadata": {
        "colab": {
          "base_uri": "https://localhost:8080/"
        },
        "id": "xoKAXRqcxQRS",
        "outputId": "57625ed1-ba3d-413f-fe0f-a83a40dcf14d"
      },
      "execution_count": 8,
      "outputs": [
        {
          "output_type": "stream",
          "name": "stdout",
          "text": [
            "Date: 2020-07-18, Total New Cases: 70962\n"
          ]
        }
      ]
    },
    {
      "cell_type": "markdown",
      "source": [
        "# 3. Find the state with the second-largest number of COVID cases (Total Confirmed cases)"
      ],
      "metadata": {
        "id": "wK0om-3ix-kI"
      }
    },
    {
      "cell_type": "code",
      "source": [
        "# Group by state and calculate the total confirmed cases for each state\n",
        "state_cases = df.groupBy(\"Name of State / UT\").agg(sum(\"Total Confirmed cases\").alias(\"Total_Cases\"))\n",
        "\n",
        "# Order by total cases in descending order and collect the result\n",
        "second_largest_state = state_cases.orderBy(col(\"Total_Cases\").desc()).collect()[1]\n",
        "\n",
        "# Print the result with the state name and total cases\n",
        "print(f\"State: {second_largest_state['Name of State / UT']}, Total Cases: {second_largest_state['Total_Cases']}\")\n",
        "\n"
      ],
      "metadata": {
        "colab": {
          "base_uri": "https://localhost:8080/"
        },
        "id": "K4Lhn63Vx_75",
        "outputId": "228c7155-1422-4c73-b713-d0e86b047b0a"
      },
      "execution_count": 9,
      "outputs": [
        {
          "output_type": "stream",
          "name": "stdout",
          "text": [
            "State: tamil nadu, Total Cases: 7847083.0\n"
          ]
        }
      ]
    },
    {
      "cell_type": "markdown",
      "source": [
        "# 4. Find the Union Territory with the least number of deaths (Death)\n"
      ],
      "metadata": {
        "id": "B_j0P88OySK2"
      }
    },
    {
      "cell_type": "code",
      "source": [
        "# Filter, group, and aggregate total deaths for specified Union Territories\n",
        "union_territory_deaths = df.filter(df[\"Name of State / UT\"].isin([\"delhi\", \"puducherry\", \"lakshadweep\",\n",
        "                                                                  \"ladakh\", \"daman and diu\",\n",
        "                                                                  \"dadra and nagar haveli\",\n",
        "                                                                  \"chandigarh\", \"andaman and nicobar islands\"]))\\\n",
        "                           .groupBy(\"Name of State / UT\").agg(sum(\"Death\").alias(\"Total_Deaths\"))\n",
        "\n",
        "# Find the Union Territory with the least number of deaths\n",
        "least_deaths_ut = union_territory_deaths.orderBy(col(\"Total_Deaths\").asc()).first()\n",
        "\n",
        "# Print the result\n",
        "print(f\"Union Territory: {least_deaths_ut['Name of State / UT']}, Total Deaths: {least_deaths_ut['Total_Deaths']}\")\n"
      ],
      "metadata": {
        "colab": {
          "base_uri": "https://localhost:8080/"
        },
        "id": "oQPwUJn7yYRT",
        "outputId": "97b049e6-3b1f-4b64-ff16-aedb2e329bae"
      },
      "execution_count": 10,
      "outputs": [
        {
          "output_type": "stream",
          "name": "stdout",
          "text": [
            "Union Territory: andaman and nicobar islands, Total Deaths: 64.0\n"
          ]
        }
      ]
    },
    {
      "cell_type": "markdown",
      "source": [
        "# 5. Find the state with the lowest Death to Total Confirmed cases ratio"
      ],
      "metadata": {
        "id": "dwkvGbiTzKLC"
      }
    },
    {
      "cell_type": "code",
      "source": [
        "# Calculate the death-to-confirmed-cases ratio for each state/UT\n",
        "state_death_ratio = df.groupBy(\"Name of State / UT\").agg(\n",
        "    (sum(\"Death\") / sum(\"Total Confirmed cases\")).alias(\"Death_Confirmed_Ratio\")\n",
        ")\n",
        "\n",
        "# Find the state/UT with the lowest death-to-confirmed-cases ratio\n",
        "lowest_death_ratio_state = state_death_ratio.orderBy(col(\"Death_Confirmed_Ratio\").asc()).first()\n",
        "\n",
        "# Print the result\n",
        "print(f\"State/UT: {lowest_death_ratio_state['Name of State / UT']}, Death-Confirmed Ratio: {lowest_death_ratio_state['Death_Confirmed_Ratio']}\")\n"
      ],
      "metadata": {
        "colab": {
          "base_uri": "https://localhost:8080/"
        },
        "id": "KMHPK0m_zLI5",
        "outputId": "e2b3f211-ecc4-4db9-ca90-f0fe5774aabd"
      },
      "execution_count": 11,
      "outputs": [
        {
          "output_type": "stream",
          "name": "stdout",
          "text": [
            "State/UT: union territory of ladakh, Death-Confirmed Ratio: 0.0\n"
          ]
        }
      ]
    },
    {
      "cell_type": "markdown",
      "source": [
        "# 6. Find which month has the most newer recovered cases"
      ],
      "metadata": {
        "id": "jgWniReqzjku"
      }
    },
    {
      "cell_type": "code",
      "source": [
        "# Extract month from date and calculate total recovered cases for each month\n",
        "monthly_recovered_cases = df.withColumn(\"Month\", date_format(col(\"Date\"), \"MMMM\"))\\\n",
        "                            .groupBy(\"Month\").agg(sum(\"New recovered\").alias(\"Total_Recovered\"))\n",
        "\n",
        "# Find the month with the most recovered cases\n",
        "most_recovered_month = monthly_recovered_cases.orderBy(col(\"Total_Recovered\").desc()).first()\n",
        "\n",
        "# Print the result\n",
        "print(f\"Month: {most_recovered_month['Month']}, Total Recovered Cases: {most_recovered_month['Total_Recovered']}\")\n"
      ],
      "metadata": {
        "colab": {
          "base_uri": "https://localhost:8080/"
        },
        "id": "8npYH2IFzkWh",
        "outputId": "45926acf-f697-413a-bf7a-3928bd0606a6"
      },
      "execution_count": 12,
      "outputs": [
        {
          "output_type": "stream",
          "name": "stdout",
          "text": [
            "Month: July, Total Recovered Cases: 722983\n"
          ]
        }
      ]
    }
  ]
}